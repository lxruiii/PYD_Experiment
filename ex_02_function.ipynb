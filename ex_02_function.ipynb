{
 "cells": [
  {
   "cell_type": "markdown",
   "id": "bcda5331-1d6b-4ffc-ac15-e141ecd12f6b",
   "metadata": {},
   "source": [
    "某轴心受压柱，截面尺寸 bxh=400mmx500mm，此柱承受的轴力设计值 N=4000kN,\n",
    "计算长度=4m，采用 C35 砼，HRB400 级纵向受力钢筋，试校核此柱是否安全。\n",
    "已知:f=16.7N/mm，/=360N/mm，所配置的纵向受力钢筋面积 1964 mm，稳定系数见下表。\n",
    "1/b 10 12 \n",
    "1.0 0.98 0.95 \n",
    "提示:P'-4，N.=0.90U,A+f4)\n",
    "(1)确定稳定系数中\n",
    "(2)确定柱截面承载力"
   ]
  },
  {
   "cell_type": "code",
   "execution_count": 10,
   "id": "cc832b4d-feb6-44d7-b42a-9ccebfedd478",
   "metadata": {},
   "outputs": [
    {
     "name": "stdout",
     "output_type": "stream",
     "text": [
      "0.00982 3569.48928\n"
     ]
    }
   ],
   "source": [
    "def function(b,h,l,fc,fy,A_):\n",
    "    a=l*1000/b\n",
    "    if a==8:\n",
    "        u=1.0\n",
    "    elif a==10:\n",
    "        u=0.98\n",
    "    elif a==12:\n",
    "        u=0.95\n",
    "    A=b*h\n",
    "    p=A_/A\n",
    "    N=0.9*u*(fc*A+fy*A_)/1000\n",
    "    return p,N  #返回值\n",
    "p,n=function(400,500,4,16.7,360,1964)\n",
    "print(p,n)\n",
    "    "
   ]
  },
  {
   "cell_type": "markdown",
   "id": "f5c05ea0-1ddd-4ca7-93ee-0b2dd536b5a3",
   "metadata": {},
   "source": [
    "故界面不安全"
   ]
  }
 ],
 "metadata": {
  "kernelspec": {
   "display_name": "Python 3",
   "language": "python",
   "name": "python3"
  },
  "language_info": {
   "codemirror_mode": {
    "name": "ipython",
    "version": 3
   },
   "file_extension": ".py",
   "mimetype": "text/x-python",
   "name": "python",
   "nbconvert_exporter": "python",
   "pygments_lexer": "ipython3",
   "version": "3.8.8"
  }
 },
 "nbformat": 4,
 "nbformat_minor": 5
}
